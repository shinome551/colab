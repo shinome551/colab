{
  "nbformat": 4,
  "nbformat_minor": 0,
  "metadata": {
    "colab": {
      "name": "NN_jax.ipynb",
      "provenance": [],
      "authorship_tag": "ABX9TyNlLqF4Mkfi2hKzFHLnjYuY",
      "include_colab_link": true
    },
    "kernelspec": {
      "name": "python3",
      "display_name": "Python 3"
    },
    "accelerator": "GPU"
  },
  "cells": [
    {
      "cell_type": "markdown",
      "metadata": {
        "id": "view-in-github",
        "colab_type": "text"
      },
      "source": [
        "<a href=\"https://colab.research.google.com/github/shinome551/colab/blob/master/NN_jax.ipynb\" target=\"_parent\"><img src=\"https://colab.research.google.com/assets/colab-badge.svg\" alt=\"Open In Colab\"/></a>"
      ]
    },
    {
      "cell_type": "code",
      "metadata": {
        "id": "QFAQJJ7P44Uv",
        "colab_type": "code",
        "colab": {}
      },
      "source": [
        "import jax.numpy as np\n",
        "from jax import grad, jit, vmap\n",
        "from jax import random\n",
        "import numpy as onp\n",
        "from sklearn.datasets import fetch_openml"
      ],
      "execution_count": 0,
      "outputs": []
    },
    {
      "cell_type": "code",
      "metadata": {
        "id": "CicOkFFX6cDV",
        "colab_type": "code",
        "colab": {}
      },
      "source": [
        "X, y = fetch_openml('mnist_784', version=1, return_X_y=True)\n",
        "X = X / 255.0\n",
        "y = y.astype(onp.uint8)"
      ],
      "execution_count": 0,
      "outputs": []
    },
    {
      "cell_type": "code",
      "metadata": {
        "id": "g6nZ_Ezi67mt",
        "colab_type": "code",
        "colab": {}
      },
      "source": [
        "key = random.PRNGKey(0)"
      ],
      "execution_count": 0,
      "outputs": []
    },
    {
      "cell_type": "code",
      "metadata": {
        "id": "BqpkrstE9pGo",
        "colab_type": "code",
        "colab": {}
      },
      "source": [
        "X_perm = random.permutation(key, X)\n",
        "y_perm = random.permutation(key, y)\n",
        "X_train, X_test = np.split(X_perm, [60000])\n",
        "y_train, y_test = np.split(y_perm, [60000])"
      ],
      "execution_count": 0,
      "outputs": []
    },
    {
      "cell_type": "code",
      "metadata": {
        "id": "iANgkLNC-1-v",
        "colab_type": "code",
        "colab": {}
      },
      "source": [
        "@jit\n",
        "def dist_vv(x, y):\n",
        "    return np.vdot(x, x.T) - 2 * np.vdot(x, y.T) + np.vdot(y, y.T)\n",
        "\n",
        "dist_vm = vmap(dist_vv, (None, 0), 0)"
      ],
      "execution_count": 0,
      "outputs": []
    },
    {
      "cell_type": "code",
      "metadata": {
        "id": "hj3DNI81PDX-",
        "colab_type": "code",
        "colab": {}
      },
      "source": [
        "@jit\n",
        "def NN_vm(q, X):\n",
        "    d = dist_vm(q, X)\n",
        "    return np.argmin(d, axis=0)\n",
        "\n",
        "NN_mm = vmap(NN_vm, (0, None), 1)"
      ],
      "execution_count": 0,
      "outputs": []
    },
    {
      "cell_type": "code",
      "metadata": {
        "id": "e-nZ0t50Q7Ut",
        "colab_type": "code",
        "colab": {}
      },
      "source": [
        "pred = y_train[NN_mm(X_test, X_train)]"
      ],
      "execution_count": 0,
      "outputs": []
    },
    {
      "cell_type": "code",
      "metadata": {
        "id": "ZzLWowoyQ_h3",
        "colab_type": "code",
        "colab": {
          "base_uri": "https://localhost:8080/",
          "height": 34
        },
        "outputId": "13418551-33c3-4325-a9b0-9c33da8c79c9"
      },
      "source": [
        "print('Test Accuracy:{:.1f}%'.format(100 * (y_test == pred).mean()))"
      ],
      "execution_count": 27,
      "outputs": [
        {
          "output_type": "stream",
          "text": [
            "Test Accuracy:97.3%\n"
          ],
          "name": "stdout"
        }
      ]
    },
    {
      "cell_type": "code",
      "metadata": {
        "id": "sh4pQetKzdZr",
        "colab_type": "code",
        "colab": {}
      },
      "source": [
        ""
      ],
      "execution_count": 0,
      "outputs": []
    }
  ]
}